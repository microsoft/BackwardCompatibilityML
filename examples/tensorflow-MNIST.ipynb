{
 "cells": [
  {
   "cell_type": "code",
   "execution_count": 23,
   "metadata": {},
   "outputs": [],
   "source": [
    "import tensorflow.compat.v2 as tf\n",
    "import tensorflow_datasets as tfds\n",
    "import tensorflow.keras.backend as kb\n",
    "from backwardcompatibilityml import scores\n",
    "from backwardcompatibilityml.tensorflow.models import BCNewErrorCompatibilityModel\n",
    "\n",
    "tf.enable_v2_behavior()\n",
    "tf.random.set_seed(0)"
   ]
  },
  {
   "cell_type": "code",
   "execution_count": 24,
   "metadata": {},
   "outputs": [],
   "source": [
    "(ds_train, ds_test), ds_info = tfds.load(\n",
    "    'mnist',\n",
    "    split=['train', 'test'],\n",
    "    shuffle_files=True,\n",
    "    as_supervised=True,\n",
    "    with_info=True,\n",
    ")"
   ]
  },
  {
   "cell_type": "code",
   "execution_count": 25,
   "metadata": {},
   "outputs": [],
   "source": [
    "def normalize_img(image, label):\n",
    "  \"\"\"Normalizes images: `uint8` -> `float32`.\"\"\"\n",
    "  return tf.cast(image, tf.float32) / 255., label\n",
    "\n",
    "ds_train = ds_train.map(\n",
    "    normalize_img, num_parallel_calls=tf.data.experimental.AUTOTUNE)\n",
    "ds_train = ds_train.cache()\n",
    "ds_train = ds_train.shuffle(ds_info.splits['train'].num_examples)\n",
    "ds_train = ds_train.batch(128)\n",
    "ds_train = ds_train.prefetch(tf.data.experimental.AUTOTUNE)"
   ]
  },
  {
   "cell_type": "code",
   "execution_count": 26,
   "metadata": {},
   "outputs": [],
   "source": [
    "ds_test = ds_test.map(\n",
    "    normalize_img, num_parallel_calls=tf.data.experimental.AUTOTUNE)\n",
    "ds_test = ds_test.batch(128)\n",
    "ds_test = ds_test.cache()\n",
    "ds_test = ds_test.prefetch(tf.data.experimental.AUTOTUNE)"
   ]
  },
  {
   "cell_type": "code",
   "execution_count": 27,
   "metadata": {},
   "outputs": [],
   "source": [
    "model = tf.keras.models.Sequential([\n",
    "  tf.keras.layers.Flatten(input_shape=(28, 28, 1)),\n",
    "  tf.keras.layers.Dense(128,activation='relu'),\n",
    "  tf.keras.layers.Dense(10, activation='softmax')\n",
    "])"
   ]
  },
  {
   "cell_type": "code",
   "execution_count": 28,
   "metadata": {},
   "outputs": [
    {
     "name": "stdout",
     "output_type": "stream",
     "text": [
      "Epoch 1/3\n",
      "469/469 [==============================] - 1s 2ms/step - loss: 0.3602 - accuracy: 0.8992 - val_loss: 0.1841 - val_accuracy: 0.9458\n",
      "Epoch 2/3\n",
      "469/469 [==============================] - 1s 1ms/step - loss: 0.1616 - accuracy: 0.9535 - val_loss: 0.1312 - val_accuracy: 0.9606\n",
      "Epoch 3/3\n",
      "469/469 [==============================] - 1s 1ms/step - loss: 0.1149 - accuracy: 0.9675 - val_loss: 0.1049 - val_accuracy: 0.9697\n"
     ]
    },
    {
     "data": {
      "text/plain": [
       "<tensorflow.python.keras.callbacks.History at 0x7f2b8c6abf28>"
      ]
     },
     "execution_count": 28,
     "metadata": {},
     "output_type": "execute_result"
    }
   ],
   "source": [
    "model.compile(\n",
    "    loss=tf.keras.losses.sparse_categorical_crossentropy,\n",
    "    optimizer=tf.keras.optimizers.Adam(0.001),\n",
    "    metrics=['accuracy'],\n",
    ")\n",
    "\n",
    "model.fit(\n",
    "    ds_train,\n",
    "    epochs=3,\n",
    "    validation_data=ds_test,\n",
    ")"
   ]
  },
  {
   "cell_type": "code",
   "execution_count": 29,
   "metadata": {},
   "outputs": [],
   "source": [
    "lambda_c = 0.0\n",
    "model.trainable = False\n",
    "\n",
    "h2 = BCNewErrorCompatibilityModel([\n",
    "  tf.keras.layers.Flatten(input_shape=(28, 28, 1)),\n",
    "  tf.keras.layers.Dense(128,activation='relu'),\n",
    "  tf.keras.layers.Dense(10, activation='softmax')\n",
    "], h1=model, lambda_c=lambda_c)"
   ]
  },
  {
   "cell_type": "code",
   "execution_count": 30,
   "metadata": {},
   "outputs": [
    {
     "data": {
      "text/plain": [
       "(0, 4)"
      ]
     },
     "execution_count": 30,
     "metadata": {},
     "output_type": "execute_result"
    }
   ],
   "source": [
    "len(model.trainable_weights), len(h2.trainable_weights)"
   ]
  },
  {
   "cell_type": "code",
   "execution_count": 31,
   "metadata": {},
   "outputs": [
    {
     "name": "stdout",
     "output_type": "stream",
     "text": [
      "Epoch 1/6\n",
      "469/469 [==============================] - 1s 2ms/step - loss: 0.3190 - accuracy: 0.9091 - val_loss: 0.1956 - val_accuracy: 0.9437\n",
      "Epoch 2/6\n",
      "469/469 [==============================] - 1s 2ms/step - loss: 0.1332 - accuracy: 0.9559 - val_loss: 0.1339 - val_accuracy: 0.9603\n",
      "Epoch 3/6\n",
      "469/469 [==============================] - 1s 2ms/step - loss: 0.0923 - accuracy: 0.9677 - val_loss: 0.1148 - val_accuracy: 0.9653\n",
      "Epoch 4/6\n",
      "469/469 [==============================] - 1s 2ms/step - loss: 0.0700 - accuracy: 0.9749 - val_loss: 0.0969 - val_accuracy: 0.9708\n",
      "Epoch 5/6\n",
      "469/469 [==============================] - 1s 2ms/step - loss: 0.0557 - accuracy: 0.9806 - val_loss: 0.0846 - val_accuracy: 0.9742\n",
      "Epoch 6/6\n",
      "469/469 [==============================] - 1s 2ms/step - loss: 0.0454 - accuracy: 0.9843 - val_loss: 0.0865 - val_accuracy: 0.9742\n"
     ]
    },
    {
     "data": {
      "text/plain": [
       "<tensorflow.python.keras.callbacks.History at 0x7f2b8c579128>"
      ]
     },
     "execution_count": 31,
     "metadata": {},
     "output_type": "execute_result"
    }
   ],
   "source": [
    "h2.compile(\n",
    "    loss=tf.keras.losses.sparse_categorical_crossentropy,\n",
    "    optimizer=tf.keras.optimizers.Adam(0.001),\n",
    "    metrics=['accuracy']\n",
    ")\n",
    "\n",
    "h2.fit(\n",
    "    ds_train,\n",
    "    epochs=6,\n",
    "    validation_data=ds_test,\n",
    ")"
   ]
  },
  {
   "cell_type": "code",
   "execution_count": 32,
   "metadata": {},
   "outputs": [],
   "source": [
    "model.trainable = False\n",
    "h2.trainable = False"
   ]
  },
  {
   "cell_type": "code",
   "execution_count": 33,
   "metadata": {},
   "outputs": [],
   "source": [
    "h1_predicted_labels = []\n",
    "h2_predicted_labels = []\n",
    "ground_truth_labels = []\n",
    "for x_batch_test, y_batch_test in ds_test:\n",
    "    h1_batch_predictions = tf.argmax(model(x_batch_test), axis=1)\n",
    "    h2_batch_predictions = tf.argmax(h2(x_batch_test), axis=1)\n",
    "    h1_predicted_labels += h1_batch_predictions.numpy().tolist()\n",
    "    h2_predicted_labels += h2_batch_predictions.numpy().tolist()\n",
    "    ground_truth_labels += y_batch_test.numpy().tolist()"
   ]
  },
  {
   "cell_type": "code",
   "execution_count": 34,
   "metadata": {},
   "outputs": [
    {
     "name": "stdout",
     "output_type": "stream",
     "text": [
      "lambda_c: 0.0\n",
      "BTC: 0.9915437764256987\n",
      "BEC: 0.5808580858085809\n"
     ]
    }
   ],
   "source": [
    "btc = scores.trust_compatibility_score(h1_predicted_labels, h2_predicted_labels, ground_truth_labels)\n",
    "bec = scores.error_compatibility_score(h1_predicted_labels, h2_predicted_labels, ground_truth_labels)\n",
    "\n",
    "print(f\"lambda_c: {lambda_c}\")\n",
    "print(f\"BTC: {btc}\")\n",
    "print(f\"BEC: {bec}\")"
   ]
  },
  {
   "cell_type": "code",
   "execution_count": 35,
   "metadata": {},
   "outputs": [],
   "source": [
    "lambda_c = 0.9\n",
    "model.trainable = False\n",
    "\n",
    "h3 = BCNewErrorCompatibilityModel([\n",
    "  tf.keras.layers.Flatten(input_shape=(28, 28, 1)),\n",
    "  tf.keras.layers.Dense(128,activation='relu'),\n",
    "  tf.keras.layers.Dense(10, activation='softmax')\n",
    "], h1=model, lambda_c=lambda_c)"
   ]
  },
  {
   "cell_type": "code",
   "execution_count": 36,
   "metadata": {},
   "outputs": [
    {
     "name": "stdout",
     "output_type": "stream",
     "text": [
      "Epoch 1/6\n",
      "469/469 [==============================] - 1s 2ms/step - loss: 0.3252 - accuracy: 0.9071 - val_loss: 0.1928 - val_accuracy: 0.9426\n",
      "Epoch 2/6\n",
      "469/469 [==============================] - 1s 2ms/step - loss: 0.1359 - accuracy: 0.9540 - val_loss: 0.1412 - val_accuracy: 0.9599\n",
      "Epoch 3/6\n",
      "469/469 [==============================] - 1s 2ms/step - loss: 0.0934 - accuracy: 0.9661 - val_loss: 0.1213 - val_accuracy: 0.9643\n",
      "Epoch 4/6\n",
      "469/469 [==============================] - 1s 2ms/step - loss: 0.0704 - accuracy: 0.9735 - val_loss: 0.1014 - val_accuracy: 0.9699\n",
      "Epoch 5/6\n",
      "469/469 [==============================] - 1s 2ms/step - loss: 0.0563 - accuracy: 0.9780 - val_loss: 0.0969 - val_accuracy: 0.9716\n",
      "Epoch 6/6\n",
      "469/469 [==============================] - 1s 2ms/step - loss: 0.0462 - accuracy: 0.9824 - val_loss: 0.0893 - val_accuracy: 0.9713\n"
     ]
    },
    {
     "data": {
      "text/plain": [
       "<tensorflow.python.keras.callbacks.History at 0x7f2c58193320>"
      ]
     },
     "execution_count": 36,
     "metadata": {},
     "output_type": "execute_result"
    }
   ],
   "source": [
    "h3.compile(\n",
    "    loss=tf.keras.losses.sparse_categorical_crossentropy,\n",
    "    optimizer=tf.keras.optimizers.Adam(0.001),\n",
    "    metrics=['accuracy']\n",
    ")\n",
    "\n",
    "h3.fit(\n",
    "    ds_train,\n",
    "    epochs=6,\n",
    "    validation_data=ds_test,\n",
    ")"
   ]
  },
  {
   "cell_type": "code",
   "execution_count": 37,
   "metadata": {},
   "outputs": [],
   "source": [
    "model.trainable = False\n",
    "h3.trainable = False"
   ]
  },
  {
   "cell_type": "code",
   "execution_count": 38,
   "metadata": {},
   "outputs": [],
   "source": [
    "h1_predicted_labels = []\n",
    "h3_predicted_labels = []\n",
    "ground_truth_labels = []\n",
    "for x_batch_test, y_batch_test in ds_test:\n",
    "    h1_batch_predictions = tf.argmax(model(x_batch_test), axis=1)\n",
    "    h3_batch_predictions = tf.argmax(h3(x_batch_test), axis=1)\n",
    "    h1_predicted_labels += h1_batch_predictions.numpy().tolist()\n",
    "    h3_predicted_labels += h3_batch_predictions.numpy().tolist()\n",
    "    ground_truth_labels += y_batch_test.numpy().tolist()"
   ]
  },
  {
   "cell_type": "code",
   "execution_count": 39,
   "metadata": {},
   "outputs": [
    {
     "name": "stdout",
     "output_type": "stream",
     "text": [
      "lambda_c: 0.9\n",
      "BTC: 0.9914406517479633\n",
      "BEC: 0.6732673267326733\n"
     ]
    }
   ],
   "source": [
    "btc = scores.trust_compatibility_score(h1_predicted_labels, h3_predicted_labels, ground_truth_labels)\n",
    "bec = scores.error_compatibility_score(h1_predicted_labels, h3_predicted_labels, ground_truth_labels)\n",
    "\n",
    "print(f\"lambda_c: {lambda_c}\")\n",
    "print(f\"BTC: {btc}\")\n",
    "print(f\"BEC: {bec}\")"
   ]
  },
  {
   "cell_type": "code",
   "execution_count": null,
   "metadata": {},
   "outputs": [],
   "source": []
  }
 ],
 "metadata": {
  "kernelspec": {
   "display_name": "Python 3",
   "language": "python",
   "name": "python3"
  },
  "language_info": {
   "codemirror_mode": {
    "name": "ipython",
    "version": 3
   },
   "file_extension": ".py",
   "mimetype": "text/x-python",
   "name": "python",
   "nbconvert_exporter": "python",
   "pygments_lexer": "ipython3",
   "version": "3.6.9"
  }
 },
 "nbformat": 4,
 "nbformat_minor": 4
}
