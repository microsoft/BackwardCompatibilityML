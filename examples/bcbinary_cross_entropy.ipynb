{
 "cells": [
  {
   "cell_type": "code",
   "execution_count": 12,
   "metadata": {},
   "outputs": [],
   "source": [
    "import os\n",
    "import http\n",
    "import copy\n",
    "import random\n",
    "import torch\n",
    "import torch.nn as nn\n",
    "import torch.nn.functional as F\n",
    "import torch.optim as optim\n",
    "import matplotlib.pyplot as plt\n",
    "import numpy as np\n",
    "\n",
    "import backwardcompatibilityml.loss as bcloss\n",
    "import backwardcompatibilityml.scores as scores\n",
    "from backwardcompatibilityml.helpers import training\n",
    "from backwardcompatibilityml.helpers import utils\n",
    "from backwardcompatibilityml.widget.compatibility_analysis import CompatibilityAnalysis\n",
    "\n",
    "# Turn off warnings so that the widget screen\n",
    "# real estate does not decrease.\n",
    "import warnings\n",
    "warnings.filterwarnings(\"ignore\")\n",
    "\n",
    "%matplotlib inline"
   ]
  },
  {
   "cell_type": "code",
   "execution_count": 13,
   "metadata": {},
   "outputs": [],
   "source": [
    "if not os.path.isdir(\"datasets/adult-uci\"):\n",
    "    os.mkdir(\"datasets/adult-uci\")\n",
    "\n",
    "http_client = http.client.HTTPSConnection(\"archive.ics.uci.edu\")\n",
    "http_client.request(\"GET\", \"/ml/machine-learning-databases/adult/adult.data\")\n",
    "response = http_client.getresponse()\n",
    "data = response.read().decode(\"utf-8\")\n",
    "data_file = open(\"datasets/adult-uci/adult.data\", \"w\")\n",
    "data_file.write(data)\n",
    "data_file.close()"
   ]
  },
  {
   "cell_type": "code",
   "execution_count": 14,
   "metadata": {},
   "outputs": [],
   "source": [
    "datafile = open(\"datasets/adult-uci/adult.data\", \"r\")\n",
    "raw_data = datafile.read()\n",
    "datafile.close()"
   ]
  },
  {
   "cell_type": "code",
   "execution_count": 15,
   "metadata": {},
   "outputs": [],
   "source": [
    "import pandas as pd\n",
    "df = pd.read_csv(\"datasets/adult-uci/adult.data\")"
   ]
  },
  {
   "cell_type": "code",
   "execution_count": 16,
   "metadata": {},
   "outputs": [],
   "source": [
    "rows_with_header = list(map(lambda l: list(map(lambda ll: ll.strip(), l.split(\",\"))), filter(lambda l: len(l) > 0, map(lambda l: l.strip(), raw_data.split(\"\\n\")))))\n",
    "data_rows = rows_with_header[1:]\n",
    "data_rows = list(filter(lambda r: (\"?\" not in r), data_rows))\n",
    "# data_rows_transformed = list(map(lambda r: [torch.tensor(int(r[0]), dtype=torch.long), torch.tensor(list(map(lambda i: int(i), r[1:])), dtype=torch.float32)], data_rows))\n",
    "# random.shuffle(data_rows_transformed)"
   ]
  },
  {
   "cell_type": "code",
   "execution_count": 17,
   "metadata": {},
   "outputs": [],
   "source": [
    "def build_categorical_encoder(input_attribute_index, categories, total_dimensions, start_index, end_index):\n",
    "    if not (end_index - start_index + 1 == len(categories)):\n",
    "        raise Exception(\"Mismatch between number of categories and dimensions assigned.\")\n",
    "    def encoder(data_row, data_vector):\n",
    "        if len(data_vector) != total_dimensions:\n",
    "            raise Exception(f\"Data vector is of size {len(data_vector)}, but should be of size {total_dimensions}.\")\n",
    "        \n",
    "        category_index = categories.index(data_row[input_attribute_index])\n",
    "        encoding_index = start_index + category_index\n",
    "        data_vector[encoding_index] = 1\n",
    "    \n",
    "    return encoder\n",
    "\n",
    "def build_continuous_encoder(input_attribute_index, total_dimensions, attribute_index):\n",
    "    def encoder(data_row, data_vector):\n",
    "        if len(data_vector) != total_dimensions:\n",
    "            raise Exception(f\"Data vector is of size {len(data_vector)}, but should be of size {total_dimensions}.\")\n",
    "        data_vector[attribute_index] = float(data_row[input_attribute_index])\n",
    "    \n",
    "    return encoder\n",
    "\n",
    "def encode_data(rows, encoders, total_dimensions):\n",
    "    encoded_rows = []\n",
    "    for row in rows:\n",
    "        encoded_row = [0] * total_dimensions\n",
    "        for encoder in encoders:\n",
    "            encoder(row, encoded_row)\n",
    "        encoded_rows.append(encoded_row)\n",
    "    \n",
    "    return encoded_rows"
   ]
  },
  {
   "cell_type": "code",
   "execution_count": 18,
   "metadata": {},
   "outputs": [],
   "source": [
    "total_dim = 105\n",
    "workingclass_classes = [\"Private\", \"Self-emp-not-inc\", \"Self-emp-inc\", \"Federal-gov\", \"Local-gov\", \"State-gov\", \"Without-pay\", \"Never-worked\"]\n",
    "education_classes = [\"Bachelors\", \"Some-college\", \"11th\", \"HS-grad\", \"Prof-school\", \"Assoc-acdm\", \"Assoc-voc\", \"9th\", \"7th-8th\", \"12th\", \"Masters\", \"1st-4th\", \"10th\", \"Doctorate\", \"5th-6th\", \"Preschool\"]\n",
    "maritalstatus_classes = [\"Married-civ-spouse\", \"Divorced\", \"Never-married\", \"Separated\", \"Widowed\", \"Married-spouse-absent\", \"Married-AF-spouse\"]\n",
    "occupation_classes = [\"Tech-support\", \"Craft-repair\", \"Other-service\", \"Sales\", \"Exec-managerial\", \"Prof-specialty\", \"Handlers-cleaners\", \"Machine-op-inspct\", \"Adm-clerical\", \"Farming-fishing\", \"Transport-moving\", \"Priv-house-serv\", \"Protective-serv\", \"Armed-Forces\"]\n",
    "relationship_classes = [\"Wife\", \"Own-child\", \"Husband\", \"Not-in-family\", \"Other-relative\", \"Unmarried\"]\n",
    "race_classes = [\"White\", \"Asian-Pac-Islander\", \"Amer-Indian-Eskimo\", \"Other\", \"Black\"]\n",
    "sex_classes = [\"Female\", \"Male\"]\n",
    "nativecountry_classes = [\"United-States\", \"Cambodia\", \"England\", \"Puerto-Rico\", \"Canada\", \"Germany\", \"Outlying-US(Guam-USVI-etc)\", \"India\", \"Japan\", \"Greece\", \"South\", \"China\", \"Cuba\", \"Iran\", \"Honduras\", \"Philippines\", \"Italy\", \"Poland\", \"Jamaica\", \"Vietnam\", \"Mexico\", \"Portugal\", \"Ireland\", \"France\", \"Dominican-Republic\", \"Laos\", \"Ecuador\", \"Taiwan\", \"Haiti\", \"Columbia\", \"Hungary\", \"Guatemala\", \"Nicaragua\", \"Scotland\", \"Thailand\", \"Yugoslavia\", \"El-Salvador\", \"Trinadad&Tobago\", \"Peru\", \"Hong\", \"Holand-Netherlands\"]\n",
    "income_classes = [\"<=50K\", \">50K\"]\n",
    "\n",
    "\n",
    "age_encoder = build_continuous_encoder(0, total_dim, 0)\n",
    "workingclass_encoder = build_categorical_encoder(1, workingclass_classes, total_dim, 1, 8)\n",
    "fnlwgt_encoder = build_continuous_encoder(2, total_dim, 9)\n",
    "education_encoder = build_categorical_encoder(3, education_classes, total_dim, 10, 25)\n",
    "educationnum_encoder = build_continuous_encoder(4, total_dim, 26)\n",
    "maritalstatus_encoder = build_categorical_encoder(5, maritalstatus_classes, total_dim, 27, 33)\n",
    "occupation_encoder = build_categorical_encoder(6, occupation_classes, total_dim, 34, 47)\n",
    "relationship_encoder = build_categorical_encoder(7, relationship_classes, total_dim, 48, 53)\n",
    "race_encoder = build_categorical_encoder(8, race_classes, total_dim, 54, 58)\n",
    "sex_encoder = build_categorical_encoder(9, sex_classes, total_dim, 59, 60)\n",
    "capitalgain_encoder = build_continuous_encoder(10, total_dim, 61)\n",
    "capitalloss_encoder = build_continuous_encoder(11, total_dim, 62)\n",
    "hoursperweek_encoder = build_continuous_encoder(12, total_dim, 63)\n",
    "nativecountry_encoder = build_categorical_encoder(13, nativecountry_classes, total_dim, 64, 104)\n",
    "\n",
    "data_encoders = [\n",
    "    age_encoder,\n",
    "    workingclass_encoder,\n",
    "    fnlwgt_encoder,\n",
    "    education_encoder,\n",
    "    educationnum_encoder,\n",
    "    maritalstatus_encoder,\n",
    "    occupation_encoder,\n",
    "    relationship_encoder,\n",
    "    race_encoder,\n",
    "    sex_encoder,\n",
    "    nativecountry_encoder\n",
    "]\n",
    "\n",
    "income_encoder = build_categorical_encoder(14, income_classes, 2, 0, 1)\n",
    "\n",
    "target_encoders = [income_encoder]"
   ]
  },
  {
   "cell_type": "code",
   "execution_count": 19,
   "metadata": {},
   "outputs": [],
   "source": [
    "encoded_data_rows = encode_data(data_rows, data_encoders, total_dim)\n",
    "encoded_target_rows = encode_data(data_rows, target_encoders, 2)\n",
    "encoded_data = list(zip(encoded_data_rows, encoded_target_rows))\n",
    "random.shuffle(encoded_data)"
   ]
  },
  {
   "cell_type": "code",
   "execution_count": 20,
   "metadata": {},
   "outputs": [],
   "source": [
    "data_rows_transformed = list(map(lambda r: (torch.tensor(r[0]), torch.tensor(np.argmax(r[1]), dtype=torch.float32)), encoded_data))"
   ]
  },
  {
   "cell_type": "code",
   "execution_count": 21,
   "metadata": {},
   "outputs": [],
   "source": [
    "training_set = data_rows_transformed[:24128]\n",
    "testing_set = data_rows_transformed[24128:]"
   ]
  },
  {
   "cell_type": "code",
   "execution_count": 22,
   "metadata": {},
   "outputs": [
    {
     "data": {
      "text/plain": [
       "<torch._C.Generator at 0x7fb0e219d8d0>"
      ]
     },
     "execution_count": 22,
     "metadata": {},
     "output_type": "execute_result"
    }
   ],
   "source": [
    "n_epochs = 20\n",
    "batch_size_train = 754\n",
    "batch_size_test = 6033\n",
    "learning_rate = 0.01\n",
    "momentum = 0.5\n",
    "log_interval = 10\n",
    "\n",
    "random_seed = 1\n",
    "torch.backends.cudnn.enabled = False\n",
    "torch.manual_seed(random_seed)"
   ]
  },
  {
   "cell_type": "code",
   "execution_count": 23,
   "metadata": {},
   "outputs": [],
   "source": [
    "train_loader = []\n",
    "prev = 0\n",
    "for i in range((batch_size_train - 1), len(training_set), batch_size_train):\n",
    "    training_data = list(map(lambda r: r[0], training_set[prev:i]))\n",
    "    training_labels = list(map(lambda r: r[1], training_set[prev:i]))\n",
    "    prev = i\n",
    "    train_loader.append([torch.stack(training_data, dim=0), torch.stack(training_labels, dim=0)])\n",
    "\n",
    "test_loader = []\n",
    "prev = 0\n",
    "for i in range((batch_size_test - 1), len(testing_set), batch_size_test):\n",
    "    testing_data = list(map(lambda r: r[0], testing_set[prev:i]))\n",
    "    testing_labels = list(map(lambda r: r[1], testing_set[prev:i]))\n",
    "    prev = i\n",
    "    test_loader.append([torch.stack(testing_data, dim=0), torch.stack(testing_labels, dim=0)])"
   ]
  },
  {
   "cell_type": "code",
   "execution_count": 24,
   "metadata": {},
   "outputs": [],
   "source": [
    "train_loader_a = train_loader[:int(len(train_loader)/2)]\n",
    "train_loader_b = train_loader[int(len(train_loader)/2):]"
   ]
  },
  {
   "cell_type": "code",
   "execution_count": 25,
   "metadata": {},
   "outputs": [],
   "source": [
    "class LogisticRegression(nn.Module):\n",
    "\n",
    "    def __init__(self, input_dim, output_dim):\n",
    "        super(LogisticRegression, self).__init__()\n",
    "        self.linear = nn.Linear(input_dim, output_dim)\n",
    "\n",
    "    def forward(self, x):\n",
    "        out = self.linear(x)\n",
    "        out_sigmoid = F.sigmoid(out)\n",
    "\n",
    "        return out_sigmoid"
   ]
  },
  {
   "cell_type": "code",
   "execution_count": 26,
   "metadata": {},
   "outputs": [],
   "source": [
    "network = LogisticRegression(105, 1)\n",
    "discriminant_pivot = 0.3\n",
    "optimizer = optim.SGD(network.parameters(), lr=learning_rate, momentum=momentum)"
   ]
  },
  {
   "cell_type": "code",
   "execution_count": 27,
   "metadata": {},
   "outputs": [],
   "source": [
    "train_losses = []\n",
    "train_counter = []\n",
    "test_losses = []\n",
    "test_counter = [i*len(train_loader_a)*batch_size_train for i in range(n_epochs + 1)]"
   ]
  },
  {
   "cell_type": "code",
   "execution_count": 28,
   "metadata": {},
   "outputs": [],
   "source": [
    "def train(epoch):\n",
    "    network.train()\n",
    "    for batch_idx, (data, target) in enumerate(train_loader_a):\n",
    "        optimizer.zero_grad()\n",
    "        output_sigmoid = network(data)\n",
    "        loss = F.binary_cross_entropy(output_sigmoid, target)\n",
    "        loss.backward()\n",
    "        optimizer.step()\n",
    "        if batch_idx % log_interval == 0:\n",
    "            print('Train Epoch: {} [{}/{} ({:.0f}%)]\\tLoss: {:.6f}'.format(\n",
    "                epoch, batch_idx * len(data), len(train_loader_a)*batch_size_train,\n",
    "                100. * batch_idx / len(train_loader_a), loss.item()))\n",
    "            train_losses.append(loss.item())\n",
    "            train_counter.append(\n",
    "                (batch_idx*64) + ((epoch-1)*len(train_loader_a)*batch_size_train))"
   ]
  },
  {
   "cell_type": "code",
   "execution_count": 29,
   "metadata": {},
   "outputs": [],
   "source": [
    "def test():\n",
    "    network.eval()\n",
    "    test_loss = 0\n",
    "    correct = 0\n",
    "    with torch.no_grad():\n",
    "        for data, target in test_loader:\n",
    "            output_sigmoid = network(data)\n",
    "            test_loss += F.binary_cross_entropy(output_sigmoid, target, reduction=\"sum\").item()\n",
    "            pred = utils.sigmoid_to_labels(output_sigmoid, discriminant_pivot=discriminant_pivot)\n",
    "            correct += pred.eq(target.data.view_as(pred)).sum()\n",
    "        test_loss /= len(train_loader_a)*batch_size_train\n",
    "        test_losses.append(test_loss)\n",
    "        print('\\nTest set: Avg. loss: {:.4f}, Accuracy: {}/{} ({:.0f}%)\\n'.format(\n",
    "            test_loss, correct, len(train_loader_a)*batch_size_train,\n",
    "            100. * correct / (len(train_loader_a)*batch_size_train)))"
   ]
  },
  {
   "cell_type": "code",
   "execution_count": 30,
   "metadata": {},
   "outputs": [
    {
     "name": "stdout",
     "output_type": "stream",
     "text": [
      "\n",
      "Test set: Avg. loss: 12.6575, Accuracy: 4505/12064 (37%)\n",
      "\n",
      "Train Epoch: 1 [0/12064 (0%)]\tLoss: 23.240372\n",
      "Train Epoch: 1 [7540/12064 (62%)]\tLoss: 22.281168\n",
      "\n",
      "Test set: Avg. loss: 12.6575, Accuracy: 4505/12064 (37%)\n",
      "\n",
      "Train Epoch: 2 [0/12064 (0%)]\tLoss: 23.240372\n",
      "Train Epoch: 2 [7540/12064 (62%)]\tLoss: 22.281168\n",
      "\n",
      "Test set: Avg. loss: 12.6575, Accuracy: 4505/12064 (37%)\n",
      "\n",
      "Train Epoch: 3 [0/12064 (0%)]\tLoss: 23.240372\n",
      "Train Epoch: 3 [7540/12064 (62%)]\tLoss: 22.281168\n",
      "\n",
      "Test set: Avg. loss: 12.6575, Accuracy: 4505/12064 (37%)\n",
      "\n",
      "Train Epoch: 4 [0/12064 (0%)]\tLoss: 23.240372\n",
      "Train Epoch: 4 [7540/12064 (62%)]\tLoss: 22.281168\n",
      "\n",
      "Test set: Avg. loss: 12.6575, Accuracy: 4505/12064 (37%)\n",
      "\n",
      "Train Epoch: 5 [0/12064 (0%)]\tLoss: 23.240372\n",
      "Train Epoch: 5 [7540/12064 (62%)]\tLoss: 22.281168\n",
      "\n",
      "Test set: Avg. loss: 12.6575, Accuracy: 4505/12064 (37%)\n",
      "\n",
      "Train Epoch: 6 [0/12064 (0%)]\tLoss: 23.240372\n",
      "Train Epoch: 6 [7540/12064 (62%)]\tLoss: 22.281168\n",
      "\n",
      "Test set: Avg. loss: 12.6575, Accuracy: 4505/12064 (37%)\n",
      "\n",
      "Train Epoch: 7 [0/12064 (0%)]\tLoss: 23.240372\n",
      "Train Epoch: 7 [7540/12064 (62%)]\tLoss: 22.281168\n",
      "\n",
      "Test set: Avg. loss: 12.6575, Accuracy: 4505/12064 (37%)\n",
      "\n",
      "Train Epoch: 8 [0/12064 (0%)]\tLoss: 23.240372\n",
      "Train Epoch: 8 [7540/12064 (62%)]\tLoss: 22.281168\n",
      "\n",
      "Test set: Avg. loss: 12.6575, Accuracy: 4505/12064 (37%)\n",
      "\n",
      "Train Epoch: 9 [0/12064 (0%)]\tLoss: 23.240372\n",
      "Train Epoch: 9 [7540/12064 (62%)]\tLoss: 22.281168\n",
      "\n",
      "Test set: Avg. loss: 12.6575, Accuracy: 4505/12064 (37%)\n",
      "\n",
      "Train Epoch: 10 [0/12064 (0%)]\tLoss: 23.240372\n",
      "Train Epoch: 10 [7540/12064 (62%)]\tLoss: 22.281168\n",
      "\n",
      "Test set: Avg. loss: 12.6575, Accuracy: 4505/12064 (37%)\n",
      "\n",
      "Train Epoch: 11 [0/12064 (0%)]\tLoss: 23.240372\n",
      "Train Epoch: 11 [7540/12064 (62%)]\tLoss: 22.281168\n",
      "\n",
      "Test set: Avg. loss: 12.6575, Accuracy: 4505/12064 (37%)\n",
      "\n",
      "Train Epoch: 12 [0/12064 (0%)]\tLoss: 23.240372\n",
      "Train Epoch: 12 [7540/12064 (62%)]\tLoss: 22.281168\n",
      "\n",
      "Test set: Avg. loss: 12.6575, Accuracy: 4505/12064 (37%)\n",
      "\n",
      "Train Epoch: 13 [0/12064 (0%)]\tLoss: 23.240372\n",
      "Train Epoch: 13 [7540/12064 (62%)]\tLoss: 22.281168\n",
      "\n",
      "Test set: Avg. loss: 12.6575, Accuracy: 4505/12064 (37%)\n",
      "\n",
      "Train Epoch: 14 [0/12064 (0%)]\tLoss: 23.240372\n",
      "Train Epoch: 14 [7540/12064 (62%)]\tLoss: 22.281168\n",
      "\n",
      "Test set: Avg. loss: 12.6575, Accuracy: 4505/12064 (37%)\n",
      "\n",
      "Train Epoch: 15 [0/12064 (0%)]\tLoss: 23.240372\n",
      "Train Epoch: 15 [7540/12064 (62%)]\tLoss: 22.281168\n",
      "\n",
      "Test set: Avg. loss: 12.6575, Accuracy: 4505/12064 (37%)\n",
      "\n",
      "Train Epoch: 16 [0/12064 (0%)]\tLoss: 23.240372\n",
      "Train Epoch: 16 [7540/12064 (62%)]\tLoss: 22.281168\n",
      "\n",
      "Test set: Avg. loss: 12.6575, Accuracy: 4505/12064 (37%)\n",
      "\n",
      "Train Epoch: 17 [0/12064 (0%)]\tLoss: 23.240372\n",
      "Train Epoch: 17 [7540/12064 (62%)]\tLoss: 22.281168\n",
      "\n",
      "Test set: Avg. loss: 12.6575, Accuracy: 4505/12064 (37%)\n",
      "\n",
      "Train Epoch: 18 [0/12064 (0%)]\tLoss: 23.240372\n",
      "Train Epoch: 18 [7540/12064 (62%)]\tLoss: 22.281168\n",
      "\n",
      "Test set: Avg. loss: 12.6575, Accuracy: 4505/12064 (37%)\n",
      "\n",
      "Train Epoch: 19 [0/12064 (0%)]\tLoss: 23.240372\n",
      "Train Epoch: 19 [7540/12064 (62%)]\tLoss: 22.281168\n",
      "\n",
      "Test set: Avg. loss: 12.6575, Accuracy: 4505/12064 (37%)\n",
      "\n",
      "Train Epoch: 20 [0/12064 (0%)]\tLoss: 23.240372\n",
      "Train Epoch: 20 [7540/12064 (62%)]\tLoss: 22.281168\n",
      "\n",
      "Test set: Avg. loss: 12.6575, Accuracy: 4505/12064 (37%)\n",
      "\n"
     ]
    }
   ],
   "source": [
    "test()\n",
    "for epoch in range(1, n_epochs + 1):\n",
    "    train(epoch)\n",
    "    test()"
   ]
  },
  {
   "cell_type": "code",
   "execution_count": 31,
   "metadata": {},
   "outputs": [
    {
     "data": {
      "image/png": "[encoded data removed]",
      "text/plain": [
       "<Figure size 432x288 with 1 Axes>"
      ]
     },
     "execution_count": 31,
     "metadata": {},
     "output_type": "execute_result"
    },
    {
     "data": {
      "image/png": "[encoded data removed]",
      "text/plain": [
       "<Figure size 432x288 with 1 Axes>"
      ]
     },
     "metadata": {
      "needs_background": "light"
     },
     "output_type": "display_data"
    }
   ],
   "source": [
    "fig = plt.figure()\n",
    "plt.plot(train_counter, train_losses, color='blue')\n",
    "plt.scatter(test_counter, test_losses, color='red')\n",
    "plt.legend(['Train Loss', 'Test Loss'], loc='upper right')\n",
    "plt.xlabel('number of training examples seen')\n",
    "plt.ylabel('negative log likelihood loss')\n",
    "fig"
   ]
  },
  {
   "cell_type": "code",
   "execution_count": 32,
   "metadata": {},
   "outputs": [],
   "source": [
    "import copy\n",
    "\n",
    "h1 = copy.deepcopy(network)\n",
    "h2 = copy.deepcopy(network)\n",
    "h1.eval()\n",
    "new_optimizer = optim.SGD(h2.parameters(), lr=learning_rate, momentum=momentum)\n",
    "lambda_c = 0.5\n",
    "bc_loss = bcloss.BCBinaryCrossEntropyLoss(h1, h2, lambda_c, discriminant_pivot=discriminant_pivot)"
   ]
  },
  {
   "cell_type": "code",
   "execution_count": 33,
   "metadata": {},
   "outputs": [],
   "source": [
    "update_train_losses = []\n",
    "update_train_counter = []\n",
    "update_test_losses = []\n",
    "update_test_counter = [i*len(train_loader_b)*batch_size_train for i in range(n_epochs + 1)]"
   ]
  },
  {
   "cell_type": "code",
   "execution_count": 34,
   "metadata": {},
   "outputs": [],
   "source": [
    "def train_update(epoch):\n",
    "    for batch_idx, (data, target) in enumerate(train_loader_b):\n",
    "        new_optimizer.zero_grad()\n",
    "        loss = bc_loss(data, target)\n",
    "        loss.backward()\n",
    "        new_optimizer.step()\n",
    "        if batch_idx % log_interval == 0:\n",
    "            print('Train Epoch: {} [{}/{} ({:.0f}%)]\\tLoss: {:.6f}'.format(\n",
    "                epoch, batch_idx * len(data), len(train_loader_b)*batch_size_train,\n",
    "                100. * batch_idx / len(train_loader_b), loss.item()))\n",
    "            update_train_losses.append(loss.item())\n",
    "            update_train_counter.append(\n",
    "                (batch_idx*64) + ((epoch-1)*len(train_loader_b)*batch_size_train))"
   ]
  },
  {
   "cell_type": "code",
   "execution_count": 35,
   "metadata": {},
   "outputs": [],
   "source": [
    "def test_update():\n",
    "    h2.eval()\n",
    "    test_loss = 0\n",
    "    correct = 0\n",
    "    with torch.no_grad():\n",
    "        for data, target in test_loader:\n",
    "            output_sigmoid = h2(data)\n",
    "            test_loss += F.binary_cross_entropy(output_sigmoid, target, reduction=\"sum\").item()\n",
    "            pred = utils.sigmoid_to_labels(output_sigmoid, discriminant_pivot=discriminant_pivot)\n",
    "            correct += pred.eq(target.data.view_as(pred)).sum()\n",
    "    test_loss /= len(train_loader_b)*batch_size_train\n",
    "    update_test_losses.append(test_loss)\n",
    "    print('\\nTest set: Avg. loss: {:.4f}, Accuracy: {}/{} ({:.0f}%)\\n'.format(\n",
    "    test_loss, correct, len(train_loader_b)*batch_size_train,\n",
    "    100. * correct / (len(train_loader_b)*batch_size_train)))"
   ]
  },
  {
   "cell_type": "code",
   "execution_count": 36,
   "metadata": {},
   "outputs": [
    {
     "name": "stdout",
     "output_type": "stream",
     "text": [
      "\n",
      "Test set: Avg. loss: 12.6575, Accuracy: 4505/12064 (37%)\n",
      "\n",
      "Train Epoch: 1 [0/12064 (0%)]\tLoss: 23.342175\n",
      "Train Epoch: 1 [7540/12064 (62%)]\tLoss: 22.944298\n",
      "\n",
      "Test set: Avg. loss: 12.6575, Accuracy: 4505/12064 (37%)\n",
      "\n",
      "Train Epoch: 2 [0/12064 (0%)]\tLoss: 23.342175\n",
      "Train Epoch: 2 [7540/12064 (62%)]\tLoss: 22.944298\n",
      "\n",
      "Test set: Avg. loss: 12.6575, Accuracy: 4505/12064 (37%)\n",
      "\n",
      "Train Epoch: 3 [0/12064 (0%)]\tLoss: 23.342175\n",
      "Train Epoch: 3 [7540/12064 (62%)]\tLoss: 22.944298\n",
      "\n",
      "Test set: Avg. loss: 12.6575, Accuracy: 4505/12064 (37%)\n",
      "\n",
      "Train Epoch: 4 [0/12064 (0%)]\tLoss: 23.342175\n",
      "Train Epoch: 4 [7540/12064 (62%)]\tLoss: 22.944298\n",
      "\n",
      "Test set: Avg. loss: 12.6575, Accuracy: 4505/12064 (37%)\n",
      "\n",
      "Train Epoch: 5 [0/12064 (0%)]\tLoss: 23.342175\n",
      "Train Epoch: 5 [7540/12064 (62%)]\tLoss: 22.944298\n",
      "\n",
      "Test set: Avg. loss: 12.6575, Accuracy: 4505/12064 (37%)\n",
      "\n",
      "Train Epoch: 6 [0/12064 (0%)]\tLoss: 23.342175\n",
      "Train Epoch: 6 [7540/12064 (62%)]\tLoss: 22.944298\n",
      "\n",
      "Test set: Avg. loss: 12.6575, Accuracy: 4505/12064 (37%)\n",
      "\n",
      "Train Epoch: 7 [0/12064 (0%)]\tLoss: 23.342175\n",
      "Train Epoch: 7 [7540/12064 (62%)]\tLoss: 22.944298\n",
      "\n",
      "Test set: Avg. loss: 12.6575, Accuracy: 4505/12064 (37%)\n",
      "\n",
      "Train Epoch: 8 [0/12064 (0%)]\tLoss: 23.342175\n",
      "Train Epoch: 8 [7540/12064 (62%)]\tLoss: 22.944298\n",
      "\n",
      "Test set: Avg. loss: 12.6575, Accuracy: 4505/12064 (37%)\n",
      "\n",
      "Train Epoch: 9 [0/12064 (0%)]\tLoss: 23.342175\n",
      "Train Epoch: 9 [7540/12064 (62%)]\tLoss: 22.944298\n",
      "\n",
      "Test set: Avg. loss: 12.6575, Accuracy: 4505/12064 (37%)\n",
      "\n",
      "Train Epoch: 10 [0/12064 (0%)]\tLoss: 23.342175\n",
      "Train Epoch: 10 [7540/12064 (62%)]\tLoss: 22.944298\n",
      "\n",
      "Test set: Avg. loss: 12.6575, Accuracy: 4505/12064 (37%)\n",
      "\n",
      "Train Epoch: 11 [0/12064 (0%)]\tLoss: 23.342175\n",
      "Train Epoch: 11 [7540/12064 (62%)]\tLoss: 22.944298\n",
      "\n",
      "Test set: Avg. loss: 12.6575, Accuracy: 4505/12064 (37%)\n",
      "\n",
      "Train Epoch: 12 [0/12064 (0%)]\tLoss: 23.342175\n",
      "Train Epoch: 12 [7540/12064 (62%)]\tLoss: 22.944298\n",
      "\n",
      "Test set: Avg. loss: 12.6575, Accuracy: 4505/12064 (37%)\n",
      "\n",
      "Train Epoch: 13 [0/12064 (0%)]\tLoss: 23.342175\n",
      "Train Epoch: 13 [7540/12064 (62%)]\tLoss: 22.944298\n",
      "\n",
      "Test set: Avg. loss: 12.6575, Accuracy: 4505/12064 (37%)\n",
      "\n",
      "Train Epoch: 14 [0/12064 (0%)]\tLoss: 23.342175\n",
      "Train Epoch: 14 [7540/12064 (62%)]\tLoss: 22.944298\n",
      "\n",
      "Test set: Avg. loss: 12.6575, Accuracy: 4505/12064 (37%)\n",
      "\n",
      "Train Epoch: 15 [0/12064 (0%)]\tLoss: 23.342175\n",
      "Train Epoch: 15 [7540/12064 (62%)]\tLoss: 22.944298\n",
      "\n",
      "Test set: Avg. loss: 12.6575, Accuracy: 4505/12064 (37%)\n",
      "\n",
      "Train Epoch: 16 [0/12064 (0%)]\tLoss: 23.342175\n",
      "Train Epoch: 16 [7540/12064 (62%)]\tLoss: 22.944298\n",
      "\n",
      "Test set: Avg. loss: 12.6575, Accuracy: 4505/12064 (37%)\n",
      "\n",
      "Train Epoch: 17 [0/12064 (0%)]\tLoss: 23.342175\n",
      "Train Epoch: 17 [7540/12064 (62%)]\tLoss: 22.944298\n",
      "\n",
      "Test set: Avg. loss: 12.6575, Accuracy: 4505/12064 (37%)\n",
      "\n",
      "Train Epoch: 18 [0/12064 (0%)]\tLoss: 23.342175\n",
      "Train Epoch: 18 [7540/12064 (62%)]\tLoss: 22.944298\n",
      "\n",
      "Test set: Avg. loss: 12.6575, Accuracy: 4505/12064 (37%)\n",
      "\n",
      "Train Epoch: 19 [0/12064 (0%)]\tLoss: 23.342175\n",
      "Train Epoch: 19 [7540/12064 (62%)]\tLoss: 22.944298\n",
      "\n",
      "Test set: Avg. loss: 12.6575, Accuracy: 4505/12064 (37%)\n",
      "\n",
      "Train Epoch: 20 [0/12064 (0%)]\tLoss: 23.342175\n",
      "Train Epoch: 20 [7540/12064 (62%)]\tLoss: 22.944298\n",
      "\n",
      "Test set: Avg. loss: 12.6575, Accuracy: 4505/12064 (37%)\n",
      "\n"
     ]
    }
   ],
   "source": [
    "test_update()\n",
    "for epoch in range(1, n_epochs + 1):\n",
    "    train_update(epoch)\n",
    "    test_update()"
   ]
  },
  {
   "cell_type": "code",
   "execution_count": 37,
   "metadata": {},
   "outputs": [
    {
     "data": {
      "image/png": "[encoded data removed]",
      "text/plain": [
       "<Figure size 432x288 with 1 Axes>"
      ]
     },
     "execution_count": 37,
     "metadata": {},
     "output_type": "execute_result"
    },
    {
     "data": {
      "image/png": "[encoded data removed]",
      "text/plain": [
       "<Figure size 432x288 with 1 Axes>"
      ]
     },
     "metadata": {
      "needs_background": "light"
     },
     "output_type": "display_data"
    }
   ],
   "source": [
    "fig = plt.figure()\n",
    "plt.plot(update_train_counter, update_train_losses, color='blue')\n",
    "plt.scatter(update_test_counter, update_test_losses, color='red')\n",
    "plt.legend(['Train Loss', 'Test Loss'], loc='upper right')\n",
    "plt.xlabel('number of training examples seen')\n",
    "plt.ylabel('negative log likelihood loss')\n",
    "fig"
   ]
  },
  {
   "cell_type": "code",
   "execution_count": 38,
   "metadata": {},
   "outputs": [
    {
     "data": {
      "text/plain": [
       "LogisticRegression(\n",
       "  (linear): Linear(in_features=105, out_features=1, bias=True)\n",
       ")"
      ]
     },
     "execution_count": 38,
     "metadata": {},
     "output_type": "execute_result"
    }
   ],
   "source": [
    "h2.eval()\n",
    "h1.eval()"
   ]
  },
  {
   "cell_type": "code",
   "execution_count": 39,
   "metadata": {},
   "outputs": [],
   "source": [
    "test_index = 0"
   ]
  },
  {
   "cell_type": "code",
   "execution_count": 40,
   "metadata": {},
   "outputs": [],
   "source": [
    "with torch.no_grad():\n",
    "    h1_output_sigmoid = h1(test_loader[test_index][0])\n",
    "    h2_output_sigmoid = h2(test_loader[test_index][0])"
   ]
  },
  {
   "cell_type": "code",
   "execution_count": 41,
   "metadata": {},
   "outputs": [],
   "source": [
    "h1_labels = utils.sigmoid_to_labels(h1_output_sigmoid, discriminant_pivot=discriminant_pivot)\n",
    "h2_labels = utils.sigmoid_to_labels(h2_output_sigmoid, discriminant_pivot=discriminant_pivot)\n",
    "expected_labels = test_loader[test_index][1]"
   ]
  },
  {
   "cell_type": "code",
   "execution_count": 42,
   "metadata": {},
   "outputs": [
    {
     "name": "stdout",
     "output_type": "stream",
     "text": [
      "Error Compatibility Score: 1.0\n",
      "Trust Compatibility Score: 1.0\n"
     ]
    }
   ],
   "source": [
    "trust_compatibility = scores.trust_compatibility_score(h1_labels, h2_labels, expected_labels)\n",
    "error_compatibility = scores.error_compatibility_score(h1_labels, h2_labels, expected_labels)\n",
    "\n",
    "print(f\"Error Compatibility Score: {error_compatibility}\")\n",
    "print(f\"Trust Compatibility Score: {trust_compatibility}\")"
   ]
  },
  {
   "cell_type": "code",
   "execution_count": null,
   "metadata": {},
   "outputs": [],
   "source": []
  },
  {
   "cell_type": "code",
   "execution_count": null,
   "metadata": {},
   "outputs": [],
   "source": []
  }
 ],
 "metadata": {
  "kernelspec": {
   "display_name": "Python 3",
   "language": "python",
   "name": "python3"
  },
  "language_info": {
   "codemirror_mode": {
    "name": "ipython",
    "version": 3
   },
   "file_extension": ".py",
   "mimetype": "text/x-python",
   "name": "python",
   "nbconvert_exporter": "python",
   "pygments_lexer": "ipython3",
   "version": "3.6.9"
  }
 },
 "nbformat": 4,
 "nbformat_minor": 4
}
